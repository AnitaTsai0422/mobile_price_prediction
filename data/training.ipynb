{
 "cells": [
  {
   "cell_type": "code",
   "execution_count": 11,
   "metadata": {},
   "outputs": [],
   "source": [
    "import pandas as pd\n",
    "import joblib\n",
    "from sklearn.model_selection import train_test_split\n",
    "from sklearn.preprocessing import OneHotEncoder, OrdinalEncoder, MinMaxScaler\n",
    "from sklearn.compose import ColumnTransformer\n",
    "from sklearn.pipeline import Pipeline\n",
    "from sklearn.ensemble import RandomForestClassifier\n",
    "from sklearn.metrics import accuracy_score"
   ]
  },
  {
   "cell_type": "code",
   "execution_count": 2,
   "metadata": {},
   "outputs": [],
   "source": [
    "class DataProcessor:\n",
    "    def __init__(self, data_file: str):\n",
    "        self.data_file = data_file\n",
    "\n",
    "    def transform_data(self, df: pd.DataFrame):\n",
    "        # Split data into train and test sets\n",
    "        df = pd.read_csv(self.data_file)\n",
    "        train_df, val_df = train_test_split(df, test_size=0.2, random_state=24)\n",
    "\n",
    "        return train_df, val_df\n",
    "    \n",
    "    def save_data(self, df, file_name: str):\n",
    "        df.to_csv(file_name, index=False)"
   ]
  },
  {
   "cell_type": "code",
   "execution_count": 3,
   "metadata": {},
   "outputs": [],
   "source": [
    "data_processor = DataProcessor('data.csv')"
   ]
  },
  {
   "cell_type": "code",
   "execution_count": 8,
   "metadata": {},
   "outputs": [],
   "source": [
    "train_data, val_df = data_processor.transform_data(data_processor)"
   ]
  },
  {
   "cell_type": "code",
   "execution_count": 10,
   "metadata": {},
   "outputs": [],
   "source": [
    "data_processor.save_data(train_data, 'train_data.csv')\n",
    "data_processor.save_data(val_df, 'validation_data.csv')"
   ]
  },
  {
   "cell_type": "code",
   "execution_count": 12,
   "metadata": {},
   "outputs": [],
   "source": [
    "class MyModel:\n",
    "    \"\"\"\n",
    "    A class representing a machine learning model trained using RandomForestClassifier.\n",
    "    \"\"\"\n",
    "    def __init__(self):\n",
    "        \"\"\"\n",
    "        Constructor method to initialize the class instance with default values.\n",
    "        \"\"\"\n",
    "        self.model = None\n",
    "    \n",
    "    def train_model(self, train_data_file: str):\n",
    "    \n",
    "        # Load the train data file into a Pandas DataFrame.\n",
    "        train_df = pd.read_csv(train_data_file)\n",
    "\n",
    "        # Separate the target and features\n",
    "        feature = ['battery_power', 'blue', 'clock_speed', 'dual_sim', 'fc', 'four_g',\n",
    "       'int_memory', 'm_dep', 'mobile_wt', 'n_cores', 'pc', 'px_height',\n",
    "       'px_width', 'ram', 'sc_h', 'sc_w', 'talk_time', 'three_g',\n",
    "       'touch_screen', 'wifi']\n",
    "        target = ['price_range']\n",
    "\n",
    "        # X_train & y_train\n",
    "        X_train = train_df[feature]\n",
    "        y_train = train_df[target]\n",
    "\n",
    "        # Transformer:數值型特徵處理\n",
    "        num = train_df.columns.drop('price_range').to_list()\n",
    "        ct = ColumnTransformer([('num_col',MinMaxScaler(), num)],remainder='passthrough')\n",
    "\n",
    "        # 透過 Pipeline 串接 Transformer & 模型\n",
    "        estimator = Pipeline([('preprocessing', ct), ('rf', RandomForestClassifier())])\n",
    "\n",
    "        # 訓練模型\n",
    "        self.model = estimator.fit(X_train, y_train)\n",
    "\n",
    "        # Save the trained model as a joblib file.\n",
    "        joblib.dump(self.model, 'trained_model.joblib')\n",
    "\n",
    "    def evaluate_model(self, validation_data_file: str):\n",
    "        # Load the test data file into a Pandas DataFrame.\n",
    "        val_df = pd.read_csv(validation_data_file)\n",
    "\n",
    "        # Separate the target and features\n",
    "        feature = ['battery_power', 'blue', 'clock_speed', 'dual_sim', 'fc', 'four_g',\n",
    "       'int_memory', 'm_dep', 'mobile_wt', 'n_cores', 'pc', 'px_height',\n",
    "       'px_width', 'ram', 'sc_h', 'sc_w', 'talk_time', 'three_g',\n",
    "       'touch_screen', 'wifi']\n",
    "        target = ['price_range']\n",
    "\n",
    "        # X_val & y_val\n",
    "        X_val = val_df[feature]\n",
    "        y_val = val_df[target]\n",
    "\n",
    "        # Use the trained model to make predictions on the validation data.\n",
    "        pred = self.model.predict(X_val)\n",
    "\n",
    "        # Calculate the evaluation metrics for the predictions.\n",
    "        eval_accuracy = accuracy_score(y_val, pred)\n",
    "\n",
    "        return eval_accuracy\n"
   ]
  },
  {
   "cell_type": "code",
   "execution_count": 15,
   "metadata": {},
   "outputs": [
    {
     "name": "stderr",
     "output_type": "stream",
     "text": [
      "c:\\Users\\Anita\\anaconda3\\lib\\site-packages\\sklearn\\pipeline.py:346: DataConversionWarning: A column-vector y was passed when a 1d array was expected. Please change the shape of y to (n_samples,), for example using ravel().\n",
      "  self._final_estimator.fit(Xt, y, **fit_params_last_step)\n"
     ]
    },
    {
     "data": {
      "text/plain": [
       "0.88"
      ]
     },
     "execution_count": 15,
     "metadata": {},
     "output_type": "execute_result"
    }
   ],
   "source": [
    "model = MyModel()\n",
    "model.train_model('train_data.csv')\n",
    "model.evaluate_model('validation_data.csv')"
   ]
  },
  {
   "cell_type": "code",
   "execution_count": null,
   "metadata": {},
   "outputs": [],
   "source": []
  }
 ],
 "metadata": {
  "kernelspec": {
   "display_name": "base",
   "language": "python",
   "name": "python3"
  },
  "language_info": {
   "codemirror_mode": {
    "name": "ipython",
    "version": 3
   },
   "file_extension": ".py",
   "mimetype": "text/x-python",
   "name": "python",
   "nbconvert_exporter": "python",
   "pygments_lexer": "ipython3",
   "version": "3.9.7"
  },
  "orig_nbformat": 4
 },
 "nbformat": 4,
 "nbformat_minor": 2
}
